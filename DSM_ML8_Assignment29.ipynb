{
 "cells": [
  {
   "cell_type": "code",
   "execution_count": 1,
   "metadata": {},
   "outputs": [],
   "source": [
    "from bs4 import BeautifulSoup\n",
    "import urllib.request\n",
    "import nltk\n",
    "import pandas as pd \n",
    "%matplotlib inline\n",
    "response = urllib.request.urlopen('http://php.net/')\n",
    "html = response.read()\n",
    "soup = BeautifulSoup(html,\"html5lib\")"
   ]
  },
  {
   "cell_type": "code",
   "execution_count": 2,
   "metadata": {},
   "outputs": [
    {
     "name": "stdout",
     "output_type": "stream",
     "text": [
      "[('the', 208), ('php', 104), ('of', 79), ('for', 73), ('release', 66), ('in', 63), ('can', 54), ('and', 50), ('be', 49), ('this', 47), ('is', 46), ('found', 44), ('on', 43), ('a', 31), ('to', 29), ('you', 29), ('version', 28), ('please', 27), ('source', 26), ('downloads', 26), ('file', 26), ('development', 24), ('upgrading', 24), ('list', 24), ('changes', 21), ('team', 19), ('visit', 19), ('page', 19), ('or', 19), ('windows', 18), ('binaries', 18), ('also', 18), ('read', 17), ('bug', 14), ('are', 14), ('7.2.0', 14), ('7.3.0', 13), ('test', 13), ('news', 13), ('wiki', 12), ('download', 12), ('carefully', 12), ('report', 12), ('any', 12), ('system', 12), ('do', 12), ('not', 12), ('use', 12), ('it', 12), ('production', 12), ('information', 12), ('new', 12), ('features', 12), ('other', 12), ('complete', 12), ('notes', 12), ('these', 12), ('files', 12), ('archive', 12), ('planned', 12), ('thank', 12), ('helping', 12), ('us', 12), ('make', 12), ('better', 12), ('announces', 12), ('immediate', 12), ('availability', 12), ('all', 12), ('users', 12), ('encouraged', 12), ('our', 12), ('sources', 11), ('windows.php.net/qa', 11), ('preview', 11), ('', 11), ('more', 11), ('alpha', 11), ('candidate', 11), ('next', 9), ('3', 9), ('beta', 8), ('bugs', 8), ('glad', 7), ('announce', 7), ('rough', 7), ('outline', 7), ('7.3', 7), ('cycle', 7), ('specified', 7), ('issues', 7), ('reporting', 7), ('would', 7), ('signatures', 7), ('manifest', 7), ('qa', 7), ('site', 7), ('upgrade', 7), ('windows.php.net/download', 7), ('recorded', 7), ('changelog', 7), ('security', 7), ('1', 6), ('2', 5), ('several', 5), ('incompatibilities', 5), ('tracking', 5), ('will', 5), ('full', 5), ('releases', 5), ('august', 4), ('first', 4), ('at', 4), ('bugfix', 3), ('7.2', 3), ('have', 3), ('been', 3), ('fixed', 3), ('fixes', 3), ('third', 3), ('july', 3), ('released', 3), ('popular', 2), ('7.3.0beta3', 2), ('internal', 2), ('listed', 2), ('upgrading.internals', 2), ('september', 2), ('7.1.21', 2), ('7.1', 2), ('7.2.9', 2), ('7.3.0beta2', 2), ('7.3.0beta1', 2), ('7.1.20', 2), ('5.6.37', 2), ('7.0.31', 2), ('7.2.8', 2), ('which', 2), ('contains', 2), ('fourth', 2), ('7.3.0alpha4', 2), ('second', 2), ('7.2.2', 2), ('announced', 2), ('october', 2), ('general-purpose', 1), ('scripting', 1), ('language', 1), ('that', 1), ('especially', 1), ('suited', 1), ('web', 1), ('fast', 1), ('flexible', 1), ('pragmatic', 1), ('powers', 1), ('everything', 1), ('from', 1), ('your', 1), ('blog', 1), ('most', 1), ('websites', 1), ('world', 1), ('seventh', 1), ('rc1', 1), ('13th', 1), ('sixth', 1), ('30th', 1), ('fifth', 1), ('16th', 1), ('5.6', 1), ('7.0', 1), ('minor', 1), ('2nd', 1), ('19th', 1), ('5', 1), ('starts', 1), ('an', 1), ('early', 1), ('june', 1), ('21', 1), ('with', 1), ('included', 1), ('rc4', 1), ('4', 1), ('26th', 1), ('rc3', 1), ('12th', 1), ('14th', 1), ('final', 1), ('31th', 1), ('improvements', 1), ('relative', 1), ('20th', 1), ('older', 1), ('entries', 1), ('user', 1), ('group', 1), ('events', 1), ('special', 1), ('thanks', 1), ('social', 1), ('media', 1)]\n"
     ]
    }
   ],
   "source": [
    "from collections import Counter\n",
    "from string import punctuation\n",
    "\n",
    "text = (''.join(s.findAll(text=True))for s in soup.findAll('p'))\n",
    "c = Counter((x.rstrip(punctuation).lower() for y in text for x in y.split()))\n",
    "\n",
    "print (c.most_common()) # prints most common words staring at most common."
   ]
  },
  {
   "cell_type": "code",
   "execution_count": null,
   "metadata": {},
   "outputs": [],
   "source": []
  }
 ],
 "metadata": {
  "kernelspec": {
   "display_name": "Python 3",
   "language": "python",
   "name": "python3"
  },
  "language_info": {
   "codemirror_mode": {
    "name": "ipython",
    "version": 3
   },
   "file_extension": ".py",
   "mimetype": "text/x-python",
   "name": "python",
   "nbconvert_exporter": "python",
   "pygments_lexer": "ipython3",
   "version": "3.6.6"
  }
 },
 "nbformat": 4,
 "nbformat_minor": 2
}
